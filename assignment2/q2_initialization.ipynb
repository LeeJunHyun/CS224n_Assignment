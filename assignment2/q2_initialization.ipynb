{
 "cells": [
  {
   "cell_type": "code",
   "execution_count": 1,
   "metadata": {
    "collapsed": true
   },
   "outputs": [],
   "source": [
    "import numpy as np\n",
    "import tensorflow as tf"
   ]
  },
  {
   "cell_type": "code",
   "execution_count": 2,
   "metadata": {
    "collapsed": true
   },
   "outputs": [],
   "source": [
    "def xavier_weight_init():\n",
    "    \"\"\"Returns function that creates random tensor.\n",
    "\n",
    "    The specified function will take in a shape (tuple or 1-d array) and\n",
    "    returns a random tensor of the specified shape drawn from the\n",
    "    Xavier initialization distribution.\n",
    "\n",
    "    Hint: You might find tf.random_uniform useful.\n",
    "    \"\"\"\n",
    "    def _xavier_initializer(shape, **kwargs):\n",
    "        \"\"\"Defines an initializer for the Xavier distribution.\n",
    "        Specifically, the output should be sampled uniformly from [-epsilon, epsilon] where\n",
    "            epsilon = sqrt(6) / <sum of the sizes of shape's dimensions>\n",
    "        e.g., if shape = (2, 3), epsilon = sqrt(6 / (2 + 3))\n",
    "\n",
    "        This function will be used as a variable initializer.\n",
    "\n",
    "        Args:\n",
    "            shape: Tuple or 1-d array that species the dimensions of the requested tensor.\n",
    "        Returns:\n",
    "            out: tf.Tensor of specified shape sampled from the Xavier distribution.\n",
    "        \"\"\"\n",
    "        ### YOUR CODE HERE\n",
    "        d_1 = shape[0]\n",
    "        if len(shape) > 1:\n",
    "            d_2 = shape[1] \n",
    "        else:\n",
    "            d_2 = shape[0]\n",
    "        epsilon = np.sqrt(6) / np.sqrt(d_1 + d_2)\n",
    "        out = tf.random_uniform(shape,-epsilon,epsilon)\n",
    "        ### END YOUR CODE\n",
    "        return out\n",
    "    # Returns defined initializer function.\n",
    "    return _xavier_initializer"
   ]
  },
  {
   "cell_type": "code",
   "execution_count": 3,
   "metadata": {
    "collapsed": true
   },
   "outputs": [],
   "source": [
    "def test_initialization_basic():\n",
    "    \"\"\"Some simple tests for the initialization.\n",
    "    \"\"\"\n",
    "    print \"Running basic tests...\"\n",
    "    xavier_initializer = xavier_weight_init()\n",
    "    shape = (1,)\n",
    "    xavier_mat = xavier_initializer(shape)\n",
    "    assert xavier_mat.get_shape() == shape\n",
    "\n",
    "    shape = (1, 2, 3)\n",
    "    xavier_mat = xavier_initializer(shape)\n",
    "    assert xavier_mat.get_shape() == shape\n",
    "    print \"Basic (non-exhaustive) Xavier initialization tests pass\""
   ]
  },
  {
   "cell_type": "code",
   "execution_count": 4,
   "metadata": {},
   "outputs": [
    {
     "name": "stdout",
     "output_type": "stream",
     "text": [
      "Running basic tests...\n",
      "Basic (non-exhaustive) Xavier initialization tests pass\n"
     ]
    }
   ],
   "source": [
    "test_initialization_basic()"
   ]
  },
  {
   "cell_type": "code",
   "execution_count": null,
   "metadata": {
    "collapsed": true
   },
   "outputs": [],
   "source": []
  }
 ],
 "metadata": {
  "kernelspec": {
   "display_name": "tensorflow kernel",
   "language": "python",
   "name": "tfkernel"
  },
  "language_info": {
   "codemirror_mode": {
    "name": "ipython",
    "version": 2
   },
   "file_extension": ".py",
   "mimetype": "text/x-python",
   "name": "python",
   "nbconvert_exporter": "python",
   "pygments_lexer": "ipython2",
   "version": "2.7.12"
  }
 },
 "nbformat": 4,
 "nbformat_minor": 2
}
